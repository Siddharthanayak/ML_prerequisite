{
 "cells": [
  {
   "cell_type": "markdown",
   "id": "e992e2c5",
   "metadata": {},
   "source": [
    "## 1"
   ]
  },
  {
   "cell_type": "markdown",
   "id": "4828d918",
   "metadata": {},
   "source": [
    "Given (n,k) (denoted as 1) and (k,m) (denoted as 2)  \n",
    "\n",
    "Every row of (n,k) matrix would be having dot-product with all the columns of every column of (k,m) matrix.  \n",
    "Total no. of rows in (n,k): **n**  \n",
    "Total no. of columns in (k,m): **m**  \n",
    "In each row there are k elements in (1) and in each column in (2) there are k elements. So there should total multiplications = k and total additions = **k-1**  \n",
    "So total additions and multiplications for 1 pair(consisting of a row of (1) and a column of (2)) are: **k-1** and **k** respectively.  \n",
    "\n",
    "Total no. of pairs = **nm**  \n",
    "\n",
    "Therefore total no. of additions and multiplications are: **nm(k-1)** and **nmk** respectively\n"
   ]
  },
  {
   "cell_type": "markdown",
   "id": "7c43e06d",
   "metadata": {},
   "source": [
    "## 2"
   ]
  },
  {
   "cell_type": "markdown",
   "id": "3712de3c",
   "metadata": {},
   "source": [
    "### Using Nested list"
   ]
  },
  {
   "cell_type": "code",
   "execution_count": 5,
   "id": "b623b2d2",
   "metadata": {},
   "outputs": [],
   "source": [
    "# Func to find a vertical col of index: col_idx of the matrix2/mat2\n",
    "def col_m2(mat, col_idx):\n",
    "    lst = []\n",
    "    for i in mat:\n",
    "        lst += [i[col_idx]]\n",
    "    return lst\n",
    "\n",
    "def multiply2lists(l1, l2):\n",
    "    ans = 0\n",
    "    for i in range(len(l1)):\n",
    "        ans +=l1[i]*l2[i]\n",
    "    return ans"
   ]
  },
  {
   "cell_type": "code",
   "execution_count": 6,
   "id": "814fed4e",
   "metadata": {},
   "outputs": [
    {
     "name": "stdout",
     "output_type": "stream",
     "text": [
      "[[46, 35, 17, 8], [23, 21, 36, 7]]\n"
     ]
    }
   ],
   "source": [
    "m1 = [[2, 3, 4],\n",
    "      [5, 1, 2]]\n",
    "\n",
    "m2 = [[1, 2, 7, 1],\n",
    "      [8, 9, 1, 2],\n",
    "      [5, 1, 0, 0]]\n",
    "\n",
    "# finding the dimensions of result matrix (=mat1*mat2)\n",
    "row, col = 0, 0\n",
    "for i in m1:\n",
    "    row += 1\n",
    "col = len(m2[0])\n",
    "\n",
    "mat = []\n",
    "for i in range(row):\n",
    "    temp_lst = []\n",
    "    for j in range(col):\n",
    "        temp_lst += [0]\n",
    "    mat.append(temp_lst)\n",
    "\n",
    "for i in range(len(m1)):\n",
    "    row = m1[i]\n",
    "    m2_cols = len(m2[0])\n",
    "    for j in range(m2_cols):\n",
    "        col = col_m2(m2, j)\n",
    "        ans = multiply2lists(row, col)\n",
    "        mat[i][j] = ans\n",
    "\n",
    "print(mat)\n",
    "\n"
   ]
  },
  {
   "cell_type": "markdown",
   "id": "98c823ee",
   "metadata": {},
   "source": [
    "### Using np"
   ]
  },
  {
   "cell_type": "code",
   "execution_count": 7,
   "id": "f00d6a16",
   "metadata": {},
   "outputs": [
    {
     "name": "stdout",
     "output_type": "stream",
     "text": [
      "[[46 35 17  8]\n",
      " [23 21 36  7]]\n"
     ]
    }
   ],
   "source": [
    "m1 = np.array([[2, 3, 4],\n",
    "               [5, 1, 2]])\n",
    "\n",
    "m2 = np.array([[1, 2, 7, 1],\n",
    "               [8, 9, 1, 2],\n",
    "               [5, 1, 0, 0]])\n",
    "\n",
    "row, col = m1.shape[0], m2.shape[1]\n",
    "res = np.full((row, col), 0)\n",
    "\n",
    "for i in range(row):\n",
    "    for j in range(col):\n",
    "        res[i][j] = np.dot(m1[i], m2[:, j])\n",
    "print(res)\n",
    "        "
   ]
  },
  {
   "cell_type": "markdown",
   "id": "38b58b5a",
   "metadata": {},
   "source": [
    "## 3"
   ]
  },
  {
   "cell_type": "code",
   "execution_count": 8,
   "id": "247b0f66",
   "metadata": {},
   "outputs": [
    {
     "name": "stdout",
     "output_type": "stream",
     "text": [
      "Median: 4.0, But here the Time Complexity is O(n^2)\n",
      "Time taken: 0.001018 seconds\n"
     ]
    }
   ],
   "source": [
    "import time\n",
    "import numpy as np\n",
    "start = time.time()\n",
    "\n",
    "def find_n_lar(arr, maxx, largest):\n",
    "    for ele in arr:\n",
    "        if (ele>maxx and ele<largest):\n",
    "            maxx = ele\n",
    "    return maxx\n",
    "# \n",
    "def nth_largest(arr, n):\n",
    "    lar_arr = np.full(n, -np.inf)\n",
    "    largest = max(arr)+1\n",
    "    for i in range(len(lar_arr)):\n",
    "        maxx = lar_arr[i]\n",
    "        largest = find_n_lar(arr, maxx, largest)\n",
    "        lar_arr[i] = largest\n",
    "    return lar_arr[-1]\n",
    "# \n",
    "\n",
    "arr = np.array([2, 4, 6, 1, 7, 8, 3])\n",
    "if (len(arr)%2 == 0):\n",
    "    n_lar = len(arr) - int(len(arr)/2-1)\n",
    "else:\n",
    "    n_lar = len(arr) - int(len(arr)/2)\n",
    "\n",
    "res = nth_largest(arr, n_lar)\n",
    "print(f\"Median: {res}, But here the Time Complexity is O(n^2)\")\n",
    "\n",
    "end = time.time()\n",
    "print(\"Time taken: {:.6f} seconds\".format(end - start))"
   ]
  },
  {
   "cell_type": "code",
   "execution_count": 9,
   "id": "886a5258",
   "metadata": {},
   "outputs": [
    {
     "name": "stdout",
     "output_type": "stream",
     "text": [
      "4\n",
      "Time taken: 0.000998 seconds\n"
     ]
    }
   ],
   "source": [
    "# Optimal Approach of TC = O(nlogn)\n",
    "import time\n",
    "start = time.time()\n",
    "\n",
    "array = np.array([2, 4, 6, 1, 7, 8, 3])\n",
    "arr = np.sort(array)\n",
    "if (len(arr)%2 == 0):\n",
    "    idx = int(len(arr)/2-1)\n",
    "else:\n",
    "    idx = int(len(arr)/2)\n",
    "print(arr[idx])\n",
    "\n",
    "end = time.time()\n",
    "print(\"Time taken: {:.6f} seconds\".format(end - start))"
   ]
  },
  {
   "cell_type": "code",
   "execution_count": 10,
   "id": "5b06faf0",
   "metadata": {},
   "outputs": [
    {
     "name": "stdout",
     "output_type": "stream",
     "text": [
      "4.0\n",
      "Time taken: 0.000350 seconds\n"
     ]
    }
   ],
   "source": [
    "import time\n",
    "start = time.time()\n",
    "\n",
    "arr = np.array([2, 4, 6, 1, 7, 8, 3])\n",
    "print(np.median(arr))\n",
    "\n",
    "end = time.time()\n",
    "print(\"Time taken: {:.6f} seconds\".format(end - start))"
   ]
  },
  {
   "cell_type": "markdown",
   "id": "6b6f11a8",
   "metadata": {},
   "source": [
    "## 4"
   ]
  },
  {
   "cell_type": "markdown",
   "id": "030a73f4",
   "metadata": {},
   "source": [
    "$$\n",
    "f = x^2 y + y^3 \\sin(x) \\\\\n",
    "\n",
    "f' (wrt x) = 2 x y + y^3 \\cos(x) \\\\\n",
    "f' (wrt y) = x^2 + 3 y^2 \\cos(x) \\\\\n",
    "\n",
    "$$"
   ]
  },
  {
   "cell_type": "code",
   "execution_count": 11,
   "id": "9b4fedf1",
   "metadata": {},
   "outputs": [
    {
     "name": "stdout",
     "output_type": "stream",
     "text": [
      "8.322418446945118 -39.35951978242851\n"
     ]
    }
   ],
   "source": [
    "x, y = 1.0, 2.0\n",
    "x1, y1 = 3.0, 4.0\n",
    "\n",
    "df_dx = 2*x*y + y**3*np.cos(x)\n",
    "df_dx1 = 2*x1*y1 + y1**3*np.cos(x1)\n",
    "\n",
    "print(df_dx, df_dx1)"
   ]
  },
  {
   "cell_type": "markdown",
   "id": "999bb80f",
   "metadata": {},
   "source": [
    "## 5"
   ]
  },
  {
   "cell_type": "code",
   "execution_count": 12,
   "id": "2bf50498",
   "metadata": {},
   "outputs": [
    {
     "name": "stdout",
     "output_type": "stream",
     "text": [
      "8.322418 -39.35952\n"
     ]
    }
   ],
   "source": [
    "# Using JAX verifying\n",
    "\n",
    "import jax.numpy as jnp\n",
    "from jax import grad\n",
    "def func(x, y):\n",
    "    return x**2*y + y**3*jnp.sin(x)\n",
    "\n",
    "df_dx_1 = grad(func, argnums=0)(1.0, 2.0)\n",
    "df_dx_2 = grad(func, argnums=0)(3.0, 4.0)\n",
    "print(df_dx_1, df_dx_2)"
   ]
  },
  {
   "cell_type": "markdown",
   "id": "7bc1ccea",
   "metadata": {},
   "source": [
    "## 6"
   ]
  },
  {
   "cell_type": "code",
   "execution_count": 13,
   "id": "aefcca66",
   "metadata": {},
   "outputs": [
    {
     "name": "stdout",
     "output_type": "stream",
     "text": [
      "[2*x*y + y**3*cos(x), x**2 + 3*y**2*sin(x)]\n"
     ]
    }
   ],
   "source": [
    "# Sympy is used to calculate the derivative of something also it could be checked analytically\n",
    "import sympy as sp\n",
    "\n",
    "x, y = sp.symbols('x y')\n",
    "f = x**2*y + y**3*sp.sin(x)\n",
    "l=[]\n",
    "for var in (x, y):\n",
    "    l+=[sp.diff(f, var)]\n",
    "\n",
    "print(l)"
   ]
  },
  {
   "cell_type": "markdown",
   "id": "f6420e98",
   "metadata": {},
   "source": [
    "## 7"
   ]
  },
  {
   "cell_type": "code",
   "execution_count": null,
   "id": "c4b9c521",
   "metadata": {},
   "outputs": [
    {
     "data": {
      "text/plain": [
       "{2022: {'Branch1': [{'Roll number': 1,\n",
       "    'Name': 'A',\n",
       "    'Marks': {'Maths': 1, 'English': 2}}],\n",
       "  'Branch2': [{'Roll number': 2,\n",
       "    'Name': 'B',\n",
       "    'Marks': {'Maths': 3, 'English': 4}}]},\n",
       " 2023: {'Branch1': [{'Roll number': 3,\n",
       "    'Name': 'C',\n",
       "    'Marks': {'Maths': 5, 'English': 6}}],\n",
       "  'Branch2': [{'Roll number': 4,\n",
       "    'Name': 'D',\n",
       "    'Marks': {'Maths': 7, 'English': 8}}]},\n",
       " 2024: {'Branch1': [{'Roll number': 5,\n",
       "    'Name': 'E',\n",
       "    'Marks': {'Maths': 9, 'English': 10}}],\n",
       "  'Branch2': [{'Roll number': 6,\n",
       "    'Name': 'F',\n",
       "    'Marks': {'Maths': 11, 'English': 12}}]},\n",
       " 2025: {'Branch1': [{'Roll number': 7,\n",
       "    'Name': 'G',\n",
       "    'Marks': {'Maths': 12, 'English': 13}}],\n",
       "  'Branch2': {'Roll number': 8,\n",
       "   'Name': 'H',\n",
       "   'Marks': {'Maths': 13, 'English': 14}}}}"
      ]
     },
     "execution_count": 18,
     "metadata": {},
     "output_type": "execute_result"
    }
   ],
   "source": [
    "dict = {\n",
    "    2022: {\n",
    "        \"Branch1\": [{\"Roll number\": 1, \"Name\": \"A\", \"Marks\": {\n",
    "                        \"Maths\": 1, \"English\": 2\n",
    "                    }\n",
    "                }], \n",
    "        \"Branch2\": [{\"Roll number\": 2, \"Name\": \"B\", \"Marks\": {\n",
    "                        \"Maths\": 3, \"English\": 4\n",
    "                    }\n",
    "                }]\n",
    "    },\n",
    "    2023: {\n",
    "        \"Branch1\": [{\"Roll number\": 3, \"Name\": \"C\", \"Marks\": {\n",
    "                        \"Maths\": 5, \"English\": 6\n",
    "                    }\n",
    "                }],\n",
    "        \"Branch2\": [{\"Roll number\": 4, \"Name\": \"D\", \"Marks\": {\n",
    "                        \"Maths\": 7, \"English\": 8\n",
    "                    }\n",
    "                }]\n",
    "    }, \n",
    "    2024: {\n",
    "        \"Branch1\": [{\"Roll number\": 5, \"Name\": \"E\", \"Marks\": {\n",
    "                        \"Maths\": 9, \"English\": 10\n",
    "                    }\n",
    "                }],\n",
    "        \"Branch2\": [{\"Roll number\": 6, \"Name\": \"F\", \"Marks\": {\n",
    "                        \"Maths\": 11, \"English\": 12\n",
    "                    }\n",
    "                }]\n",
    "    }, \n",
    "    2025: {\n",
    "        \"Branch1\": [{\"Roll number\": 7, \"Name\": \"G\", \"Marks\": {\n",
    "                        \"Maths\": 12, \"English\": 13\n",
    "                    }\n",
    "                }],\n",
    "        \"Branch2\": [{\"Roll number\": 8, \"Name\": \"H\", \"Marks\": {\n",
    "                        \"Maths\": 13, \"English\": 14\n",
    "                    }\n",
    "                }]\n",
    "    }\n",
    "}\n",
    "\n",
    "dict"
   ]
  },
  {
   "cell_type": "markdown",
   "id": "b02ca6bd",
   "metadata": {},
   "source": [
    "## 8"
   ]
  },
  {
   "cell_type": "code",
   "execution_count": 33,
   "id": "33c42445",
   "metadata": {},
   "outputs": [],
   "source": [
    "class student:\n",
    "    def __init__(self, rollnum, name, marks):\n",
    "        self.rollnum = rollnum\n",
    "        self.name = name\n",
    "        self.marks = marks\n",
    "\n",
    "class branch:\n",
    "    def __init__(self, name):\n",
    "        self.name = name\n",
    "        self.students = []\n",
    "\n",
    "    def add_student(self, student):  # FIXED\n",
    "        self.students.append(student)\n",
    "\n",
    "class year:\n",
    "    def __init__(self, year):\n",
    "        self.year = year\n",
    "        self.branches = []\n",
    "    \n",
    "    def add_branch(self, branch):\n",
    "        self.branches.append(branch)\n",
    "\n",
    "database = []\n",
    "\n",
    "year2022 = year(2022)\n",
    "\n",
    "branch1_2022 = branch(\"Branch 1\")\n",
    "branch1_2022.add_student(student(1, \"N\", {\"Maths\": 100, \"English\": 70}))\n",
    "branch1_2022.add_student(student(2, \"M\", {\"Maths\": 95, \"English\": 80}))\n",
    "\n",
    "branch2_2022 = branch(\"Branch 2\")\n",
    "branch2_2022.add_student(student(3, \"K\", {\"Maths\": 85, \"English\": 75}))\n",
    "\n",
    "year2022.add_branch(branch1_2022)\n",
    "year2022.add_branch(branch2_2022)\n",
    "\n",
    "database.append(year2022)\n",
    "\n",
    "year2023 = year(2023)\n",
    "\n",
    "branch1_2023 = branch(\"Branch 1\")\n",
    "branch1_2023.add_student(student(4, \"A\", {\"Maths\": 90, \"English\": 88}))\n",
    "branch2_2023 = branch(\"Branch 2\")\n",
    "branch2_2023.add_student(student(5, \"B\", {\"Maths\": 75, \"English\": 68}))\n",
    "\n",
    "year2023.add_branch(branch1_2023)\n",
    "year2023.add_branch(branch2_2023)\n",
    "\n",
    "database.append(year2023)"
   ]
  },
  {
   "cell_type": "markdown",
   "id": "cab8bbfe",
   "metadata": {},
   "source": [
    "## 9"
   ]
  },
  {
   "cell_type": "code",
   "execution_count": null,
   "id": "7a57b037",
   "metadata": {},
   "outputs": [
    {
     "data": {
      "image/png": "[encoded data removed]",
      "text/plain": [
       "<Figure size 1200x1000 with 1 Axes>"
      ]
     },
     "metadata": {},
     "output_type": "display_data"
    }
   ],
   "source": [
    "import matplotlib.pyplot as plt\n",
    "\n",
    "x = np.arange(0.5, 100.5, 0.5)\n",
    "\n",
    "y1 = x\n",
    "y2 = x**2\n",
    "y3 = x**3 / 100\n",
    "y4 = np.sin(x)\n",
    "y5 = np.sin(x) / x\n",
    "y6 = np.log(x)\n",
    "y7 = np.exp(x)\n",
    "\n",
    "plt.figure(figsize=(12, 10))\n",
    "\n",
    "plt.plot(x, y1, label='y = x')\n",
    "plt.plot(x, y2, label='y = x^2')\n",
    "plt.plot(x, y3, label='y = x^3 / 100')\n",
    "plt.plot(x, y4, label='y = sin(x)')\n",
    "plt.plot(x, y5, label='y = sin(x)/x')\n",
    "plt.plot(x, y6, label='y = log(x)')\n",
    "plt.plot(x[x < 10], y7[x < 10], label='y = e^x (only x < 10)', linestyle='--')\n",
    "\n",
    "plt.xlabel(\"x\")\n",
    "plt.ylabel(\"y\")\n",
    "plt.title(\"Various Functions\")\n",
    "plt.legend()\n",
    "plt.grid(True)\n",
    "plt.tight_layout()\n",
    "\n",
    "plt.show()\n"
   ]
  },
  {
   "cell_type": "markdown",
   "id": "b81d5db7",
   "metadata": {},
   "source": [
    "## 10"
   ]
  },
  {
   "cell_type": "code",
   "execution_count": 71,
   "id": "735050cf",
   "metadata": {},
   "outputs": [
    {
     "data": {
      "text/html": [
       "<div>\n",
       "<style scoped>\n",
       "    .dataframe tbody tr th:only-of-type {\n",
       "        vertical-align: middle;\n",
       "    }\n",
       "\n",
       "    .dataframe tbody tr th {\n",
       "        vertical-align: top;\n",
       "    }\n",
       "\n",
       "    .dataframe thead th {\n",
       "        text-align: right;\n",
       "    }\n",
       "</style>\n",
       "<table border=\"1\" class=\"dataframe\">\n",
       "  <thead>\n",
       "    <tr style=\"text-align: right;\">\n",
       "      <th></th>\n",
       "      <th>a</th>\n",
       "      <th>b</th>\n",
       "      <th>c</th>\n",
       "      <th>d</th>\n",
       "      <th>e</th>\n",
       "    </tr>\n",
       "  </thead>\n",
       "  <tbody>\n",
       "    <tr>\n",
       "      <th>0</th>\n",
       "      <td>1.733381</td>\n",
       "      <td>1.522349</td>\n",
       "      <td>1.474551</td>\n",
       "      <td>1.776803</td>\n",
       "      <td>1.253951</td>\n",
       "    </tr>\n",
       "    <tr>\n",
       "      <th>1</th>\n",
       "      <td>1.908804</td>\n",
       "      <td>1.859730</td>\n",
       "      <td>1.113399</td>\n",
       "      <td>1.333395</td>\n",
       "      <td>1.929145</td>\n",
       "    </tr>\n",
       "    <tr>\n",
       "      <th>2</th>\n",
       "      <td>1.644957</td>\n",
       "      <td>1.486259</td>\n",
       "      <td>1.708275</td>\n",
       "      <td>1.749321</td>\n",
       "      <td>1.871569</td>\n",
       "    </tr>\n",
       "    <tr>\n",
       "      <th>3</th>\n",
       "      <td>1.308334</td>\n",
       "      <td>1.769333</td>\n",
       "      <td>1.283596</td>\n",
       "      <td>1.231867</td>\n",
       "      <td>1.522349</td>\n",
       "    </tr>\n",
       "    <tr>\n",
       "      <th>4</th>\n",
       "      <td>1.749321</td>\n",
       "      <td>1.396454</td>\n",
       "      <td>1.733381</td>\n",
       "      <td>1.612517</td>\n",
       "      <td>1.052867</td>\n",
       "    </tr>\n",
       "  </tbody>\n",
       "</table>\n",
       "</div>"
      ],
      "text/plain": [
       "          a         b         c         d         e\n",
       "0  1.733381  1.522349  1.474551  1.776803  1.253951\n",
       "1  1.908804  1.859730  1.113399  1.333395  1.929145\n",
       "2  1.644957  1.486259  1.708275  1.749321  1.871569\n",
       "3  1.308334  1.769333  1.283596  1.231867  1.522349\n",
       "4  1.749321  1.396454  1.733381  1.612517  1.052867"
      ]
     },
     "execution_count": 71,
     "metadata": {},
     "output_type": "execute_result"
    }
   ],
   "source": [
    "vals = np.random.uniform(1, 2, 100)\n",
    "mat = np.random.choice(vals, size=(20, 5))\n",
    "import pandas as pd\n",
    "df = pd.DataFrame(data=mat)\n",
    "df.columns = [\"a\", \"b\", \"c\", \"d\", \"e\"]   # Used to rename all the columns\n",
    "df.head()"
   ]
  },
  {
   "cell_type": "markdown",
   "id": "01a143b7",
   "metadata": {},
   "source": [
    "## 11"
   ]
  },
  {
   "cell_type": "code",
   "execution_count": 65,
   "id": "8de0b4e2",
   "metadata": {},
   "outputs": [
    {
     "name": "stdout",
     "output_type": "stream",
     "text": [
      "number of rows in the dataframe where the value in the column 'g' is 'LT8' is:  17\n"
     ]
    },
    {
     "data": {
      "text/plain": [
       "np.float64(0.45783928531587714)"
      ]
     },
     "execution_count": 65,
     "metadata": {},
     "output_type": "execute_result"
    }
   ],
   "source": [
    "df[\"f\"] = df[\"a\"]+df[\"b\"]+df[\"c\"]+df[\"d\"]+df[\"e\"]\n",
    "df[\"g\"] = np.where(df[\"f\"]<8, \"LT8\", \"GT8\")\n",
    "print(f\"number of rows in the dataframe where the value in the column 'g' is 'LT8' is:  {len(df[df[\"g\"]==\"LT8\"])}\")\n",
    "np.std(df[\"f\"])"
   ]
  },
  {
   "cell_type": "markdown",
   "id": "694f4b18",
   "metadata": {},
   "source": [
    "## 12"
   ]
  },
  {
   "cell_type": "code",
   "execution_count": 67,
   "id": "055a4361",
   "metadata": {},
   "outputs": [
    {
     "name": "stdout",
     "output_type": "stream",
     "text": [
      "Array a (1D):\n",
      "[1 2 3]\n",
      "\n",
      "Array b (2D):\n",
      "[[10 20 30]\n",
      " [40 50 60]]\n",
      "\n",
      "Result of b + a (broadcasting):\n",
      "[[11 22 33]\n",
      " [41 52 63]]\n"
     ]
    }
   ],
   "source": [
    "a = np.array([1, 2, 3])\n",
    "\n",
    "b = np.array([[10, 20, 30],\n",
    "              [40, 50, 60]])\n",
    "\n",
    "result = b + a\n",
    "\n",
    "print(\"Array a (1D):\")\n",
    "print(a)\n",
    "\n",
    "print(\"\\nArray b (2D):\")\n",
    "print(b)\n",
    "\n",
    "print(\"\\nResult of b + a (broadcasting):\")\n",
    "print(result)\n"
   ]
  },
  {
   "cell_type": "markdown",
   "id": "c1df653e",
   "metadata": {},
   "source": [
    "## 13"
   ]
  },
  {
   "cell_type": "code",
   "execution_count": 72,
   "id": "1b6b3ef2",
   "metadata": {},
   "outputs": [
    {
     "name": "stdout",
     "output_type": "stream",
     "text": [
      "2\n",
      "2\n"
     ]
    }
   ],
   "source": [
    "# np.argmin from scratch\n",
    "arr = np.array([2, 5, 1, 2, 8, 5, 9, 4])\n",
    "min_index = 0\n",
    "min_value = arr[0]\n",
    "for i in range(1, len(arr)):\n",
    "    if arr[i] < min_value:\n",
    "        min_value = arr[i]\n",
    "        min_index = i\n",
    "print(min_index)\n",
    "\n",
    "\n",
    "print(np.argmin(arr))"
   ]
  }
 ],
 "metadata": {
  "kernelspec": {
   "display_name": "ML_venv",
   "language": "python",
   "name": "python3"
  },
  "language_info": {
   "codemirror_mode": {
    "name": "ipython",
    "version": 3
   },
   "file_extension": ".py",
   "mimetype": "text/x-python",
   "name": "python",
   "nbconvert_exporter": "python",
   "pygments_lexer": "ipython3",
   "version": "3.12.4"
  }
 },
 "nbformat": 4,
 "nbformat_minor": 5
}
